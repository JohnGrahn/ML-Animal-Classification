{
  "cells": [
    {
      "cell_type": "markdown",
      "id": "a363eff4",
      "metadata": {
        "extensions": {
          "jupyter_dashboards": {
            "version": 1,
            "views": {
              "grid_default": {},
              "report_default": {}
            }
          }
        },
        "id": "a363eff4"
      },
      "source": [
        "# John Grahn C964 Computer Science Capstone\n"
      ]
    },
    {
      "cell_type": "markdown",
      "id": "36777829",
      "metadata": {
        "extensions": {
          "jupyter_dashboards": {
            "version": 1,
            "views": {
              "grid_default": {},
              "report_default": {}
            }
          }
        },
        "id": "36777829"
      },
      "source": [
        "## Directory Creation and Organizing of Data for Model Testing\n",
        "\n",
        "The code below is used to create directories and organize data to test the Convolutional Neural Network model for this project."
      ]
    },
    {
      "cell_type": "code",
      "execution_count": null,
      "id": "e999d85f",
      "metadata": {
        "extensions": {
          "jupyter_dashboards": {
            "version": 1,
            "views": {
              "grid_default": {},
              "report_default": {}
            }
          }
        },
        "id": "e999d85f"
      },
      "outputs": [],
      "source": [
        "from os import listdir, makedirs\n",
        "from shutil import copyfile\n",
        "from random import seed\n",
        "from random import random\n",
        "# create directories\n",
        "data_location = 'data_dogs_or_cats_training/'\n",
        "child_directory = ['train/', 'test/']\n",
        "for child_dir in child_directory:\n",
        "\t# create label subdirectories\n",
        "\tlabeldirs = ['dogs/', 'cats/']\n",
        "\tfor labldir in labeldirs:\n",
        "\t\tdirectory_new = data_location + child_dir + labldir\n",
        "\t\tmakedirs(directory_new, exist_ok=True)\n",
        "# Generates random number\n",
        "seed(1)\n",
        "# Ratio of images for validation\n",
        "validation_ratio = 0.25\n",
        "# Move training data images into child directories\n",
        "source_directory = 'train/'\n",
        "for image in listdir(source_directory):\n",
        "\tsource = source_directory + '/' + image\n",
        "\tdestination_directory = 'train/'\n",
        "\tif random() < validation_ratio:\n",
        "\t\tdestination_directory = 'test/'\n",
        "\tif image.startswith('cat'):\n",
        "\t\tdestination = data_location + destination_directory + 'cats/' + image\n",
        "\t\tcopyfile(source, destination)\n",
        "\telif image.startswith('dog'):\n",
        "\t\tdestination = data_location + destination_directory + 'dogs/' + image\n",
        "\t\tcopyfile(source, destination)\n"
      ]
    },
    {
      "cell_type": "markdown",
      "id": "c2d7efd8",
      "metadata": {
        "id": "c2d7efd8"
      },
      "source": [
        "# Code for Model Testing\n",
        "The code below runs the CNN model and graphs performance on a line plot and confusion matrix."
      ]
    },
    {
      "cell_type": "code",
      "execution_count": null,
      "id": "495014cd",
      "metadata": {
        "extensions": {
          "jupyter_dashboards": {
            "version": 1,
            "views": {
              "grid_default": {},
              "report_default": {}
            }
          }
        },
        "scrolled": false,
        "id": "495014cd"
      },
      "outputs": [],
      "source": [
        "import sys\n",
        "import matplotlib.pyplot as plt\n",
        "from keras.applications.vgg16 import VGG16\n",
        "from keras.models import Model\n",
        "from keras.layers import Dense\n",
        "from keras.layers import Flatten\n",
        "from keras.optimizers import SGD\n",
        "from keras.preprocessing.image import ImageDataGenerator\n",
        "from sklearn.metrics import confusion_matrix\n",
        "\n",
        "\n",
        "# CNN Model\n",
        "def animal_classification_model():\n",
        "    # Load VGG16 CNN Model\n",
        "    animal_classification = VGG16(include_top=False, input_shape=(224, 224, 3))\n",
        "    # Mark layers untrainable\n",
        "    for layer in animal_classification.layers:\n",
        "        layer.trainable = False\n",
        "    # Create classifier layers\n",
        "    flatten1 = Flatten()(animal_classification.layers[-1].output)\n",
        "    class1 = Dense(128, activation='relu', kernel_initializer='he_uniform')(flatten1)\n",
        "    output = Dense(1, activation='sigmoid')(class1)\n",
        "    # Define model\n",
        "    animal_classification = Model(inputs=animal_classification.inputs, outputs=output)\n",
        "    # Compile animal_classification_model\n",
        "    optimizer = SGD(learning_rate=0.001, momentum=0.9)\n",
        "    animal_classification.compile(optimizer=optimizer, loss='binary_crossentropy', metrics=['accuracy'])\n",
        "    return animal_classification\n",
        "\n",
        "\n",
        "# Classifcation Accuracy\n",
        "def performance_graphing(history, y_test, y_pred):\n",
        "    # Classification Accuracy Plot\n",
        "    plt.subplot(211)\n",
        "    plt.title('Image Classification Accuracy')\n",
        "    plt.plot(history.history['accuracy'], color='blue', label='train')\n",
        "    plt.plot(history.history['val_accuracy'], color='red', label='test')\n",
        "    plt.legend(['train', 'test'], loc='upper left')\n",
        "    # Confusion matrix plot\n",
        "    plt.subplot(212)\n",
        "    cm = confusion_matrix(y_test, y_pred)\n",
        "    plt.imshow(cm, interpolation='nearest', cmap=plt.cm.Blues)\n",
        "    plt.title('Confusion Matrix')\n",
        "    plt.colorbar()\n",
        "    plt.xticks([0,1], ['Cat', 'Dog'])\n",
        "    plt.yticks([0,1], ['Cat', 'Dog'])\n",
        "    plt.xlabel('Predicted Label')\n",
        "    plt.ylabel('True Label')\n",
        "    plt.tight_layout()\n",
        "    # Show Plot and save to file\n",
        "    plt.savefig('performance_plots.png')\n",
        "    plt.show()\n",
        "    plt.close()\n",
        "\n",
        "\n",
        "# Test Framework for evaulting model\n",
        "def testing_framework():\n",
        "    # define model\n",
        "    animal_classification = animal_classification_model()\n",
        "    # Create new generator\n",
        "    generator = ImageDataGenerator(featurewise_center=True)\n",
        "    # specify imagenet mean values for centering\n",
        "    generator.mean = [123.68, 116.779, 103.939]\n",
        "    # prepare iterator\n",
        "    iterator_train = generator.flow_from_directory('data_dogs_or_cats_training/train/',\n",
        "                                             class_mode='binary', batch_size=64, target_size=(224, 224))\n",
        "    iterator_test = generator.flow_from_directory('data_dogs_or_cats_training/test/',\n",
        "                                            class_mode='binary', batch_size=64, target_size=(224, 224))\n",
        "    # fit model\n",
        "    history = animal_classification.fit(iterator_train, steps_per_epoch=len(iterator_train),\n",
        "                                        validation_data=iterator_test, validation_steps=len(iterator_test), epochs=5,\n",
        "                                        verbose=1)\n",
        "    # evaluate model\n",
        "    y_pred = animal_classification.predict(iterator_test, steps=len(iterator_test))\n",
        "    y_pred = y_pred > 0.5\n",
        "    y_test = iterator_test.labels\n",
        "    _, acc = animal_classification.evaluate(iterator_test, steps=len(iterator_test), verbose=0)\n",
        "    print('> %.3f' % (acc * 100.0))\n",
        "    # learning curves and confusion matrix plot\n",
        "    performance_graphing(history, y_test, y_pred)\n",
        "\n",
        "testing_framework()"
      ]
    },
    {
      "cell_type": "markdown",
      "source": [
        "<img src=\"https://lh3.googleusercontent.com/drive-viewer/AFGJ81rUmg4UOGTIYvrG-MAXhxaDUv-n0hfu_BRVTyKllMG71GGCi9JqnXXn7-evQX4gsdP2MM0Fhg35dTHluvhCxNGmjHbd0g=s2560\" /> </a>\n",
        "<img src=\"https://lh3.googleusercontent.com/drive-viewer/AFGJ81oiTxz8yfn1sYTmNbhYeKT2jgKp3FbY8zmkLdRdHBJYnVRAxRVnaFAQSB4eHo9p-AOdY3BgK-gDF9TSfS14hK6rkgIrCw=s2560\" /> </a>"
      ],
      "metadata": {
        "id": "hVtZWRf3stDt"
      },
      "id": "hVtZWRf3stDt"
    },
    {
      "cell_type": "markdown",
      "id": "9e3706ee",
      "metadata": {
        "extensions": {
          "jupyter_dashboards": {
            "version": 1,
            "views": {
              "grid_default": {},
              "report_default": {}
            }
          }
        },
        "id": "9e3706ee"
      },
      "source": [
        "# Final Model Directory Creation\n",
        "The code below creates directories for the final model."
      ]
    },
    {
      "cell_type": "code",
      "execution_count": null,
      "id": "dd16ad27",
      "metadata": {
        "extensions": {
          "jupyter_dashboards": {
            "version": 1,
            "views": {
              "grid_default": {},
              "report_default": {}
            }
          }
        },
        "id": "dd16ad27"
      },
      "outputs": [],
      "source": [
        "from os import makedirs, listdir\n",
        "from shutil import copyfile\n",
        "# Create new directories\n",
        "data_location = 'dogs_or_cats_final_model/'\n",
        "# create label subdirectories\n",
        "labeldirs = ['dogs/', 'cats/']\n",
        "for labldir in labeldirs:\n",
        "    directory_new = data_location + labldir\n",
        "    makedirs(directory_new, exist_ok=True)\n",
        "# copy training dataset images into subdirectories\n",
        "source_directory = 'train/'\n",
        "for image in listdir(source_directory):\n",
        "    source = source_directory + '/' + image\n",
        "    if image.startswith('cat'):\n",
        "        destination = data_location + 'cats/' + image\n",
        "        copyfile(source, destination)\n",
        "    elif image.startswith('dog'):\n",
        "        destination = data_location + 'dogs/' + image\n",
        "        copyfile(source, destination)"
      ]
    },
    {
      "cell_type": "markdown",
      "id": "efdfe895",
      "metadata": {
        "extensions": {
          "jupyter_dashboards": {
            "version": 1,
            "views": {
              "grid_default": {},
              "report_default": {}
            }
          }
        },
        "id": "efdfe895"
      },
      "source": [
        "# Bar Chart of Final Training Data\n",
        "The code below creates a bar graph to demonstrate the data on which the final model will be trained."
      ]
    },
    {
      "cell_type": "code",
      "execution_count": null,
      "id": "d82adc00",
      "metadata": {
        "extensions": {
          "jupyter_dashboards": {
            "version": 1,
            "views": {
              "grid_default": {},
              "report_default": {}
            }
          }
        },
        "id": "d82adc00",
        "outputId": "5186e788-494c-4659-d652-9f28d508f846"
      },
      "outputs": [
        {
          "data": {
            "image/png": "[encoded data removed]",
            "text/plain": [
              "<Figure size 640x480 with 1 Axes>"
            ]
          },
          "metadata": {},
          "output_type": "display_data"
        }
      ],
      "source": [
        "import os\n",
        "import matplotlib.pyplot as plt\n",
        "\n",
        "# Set up variables to store the number of images in each folder\n",
        "number_of_dogs = 0\n",
        "number_of_cats = 0\n",
        "\n",
        "# Loop through the \"dogs\" folder and count the number of images\n",
        "for image_name in os.listdir(\"dogs_or_cats_final_model/dogs\"):\n",
        "    if image_name.endswith(\".jpg\") or image_name.endswith(\".png\"):\n",
        "        number_of_dogs += 1\n",
        "\n",
        "# Loop through the \"cats\" folder and count the number of images\n",
        "for image_name in os.listdir(\"dogs_or_cats_final_model/cats\"):\n",
        "    if image_name.endswith(\".jpg\") or image_name.endswith(\".png\"):\n",
        "        number_of_cats += 1\n",
        "\n",
        "# Set up the colors for the bars\n",
        "colors = [\"blue\", \"orange\"]\n",
        "\n",
        "# Create a bar graph showing the number of images in each folder\n",
        "labels = [\"Dogs\", \"Cats\"]\n",
        "data = [number_of_dogs, number_of_cats]\n",
        "plt.bar(labels, data, color=colors)\n",
        "\n",
        "# Label the bars with the exact number of images\n",
        "plt.title(\"Number of Images\")\n",
        "plt.xlabel(\"Type\")\n",
        "plt.ylabel(\"Count\")\n",
        "for i, v in enumerate(data):\n",
        "    plt.text(i, v + 100, str(v), color='black', ha='center' )\n",
        "\n",
        "# Add a legend outside the chart\n",
        "\n",
        "\n",
        "plt.show()"
      ]
    },
    {
      "cell_type": "markdown",
      "id": "32407bf5",
      "metadata": {
        "id": "32407bf5"
      },
      "source": [
        "# Table View of Training Data\n",
        "The code below creates a table view of randomly selected data that will be used for the final training process."
      ]
    },
    {
      "cell_type": "code",
      "execution_count": null,
      "id": "52fe6695",
      "metadata": {
        "extensions": {
          "jupyter_dashboards": {
            "version": 1,
            "views": {
              "grid_default": {},
              "report_default": {}
            }
          }
        },
        "id": "52fe6695",
        "outputId": "13e8a18d-7377-4f18-ed99-30dc8537b5d5"
      },
      "outputs": [
        {
          "data": {
            "text/html": [
              "<div>\n",
              "<style scoped>\n",
              "    .dataframe tbody tr th:only-of-type {\n",
              "        vertical-align: middle;\n",
              "    }\n",
              "\n",
              "    .dataframe tbody tr th {\n",
              "        vertical-align: top;\n",
              "    }\n",
              "\n",
              "    .dataframe thead th {\n",
              "        text-align: right;\n",
              "    }\n",
              "</style>\n",
              "<table border=\"1\" class=\"dataframe\">\n",
              "  <thead>\n",
              "    <tr style=\"text-align: right;\">\n",
              "      <th></th>\n",
              "      <th>image name</th>\n",
              "      <th>category</th>\n",
              "    </tr>\n",
              "  </thead>\n",
              "  <tbody>\n",
              "    <tr>\n",
              "      <th>16955</th>\n",
              "      <td>cat.2758.jpg</td>\n",
              "      <td>0</td>\n",
              "    </tr>\n",
              "    <tr>\n",
              "      <th>20424</th>\n",
              "      <td>cat.5880.jpg</td>\n",
              "      <td>0</td>\n",
              "    </tr>\n",
              "    <tr>\n",
              "      <th>965</th>\n",
              "      <td>dog.10866.jpg</td>\n",
              "      <td>1</td>\n",
              "    </tr>\n",
              "    <tr>\n",
              "      <th>9083</th>\n",
              "      <td>dog.6923.jpg</td>\n",
              "      <td>1</td>\n",
              "    </tr>\n",
              "    <tr>\n",
              "      <th>4206</th>\n",
              "      <td>dog.2533.jpg</td>\n",
              "      <td>1</td>\n",
              "    </tr>\n",
              "    <tr>\n",
              "      <th>21508</th>\n",
              "      <td>cat.6856.jpg</td>\n",
              "      <td>0</td>\n",
              "    </tr>\n",
              "    <tr>\n",
              "      <th>4055</th>\n",
              "      <td>dog.2398.jpg</td>\n",
              "      <td>1</td>\n",
              "    </tr>\n",
              "    <tr>\n",
              "      <th>10192</th>\n",
              "      <td>dog.7921.jpg</td>\n",
              "      <td>1</td>\n",
              "    </tr>\n",
              "    <tr>\n",
              "      <th>20711</th>\n",
              "      <td>cat.6138.jpg</td>\n",
              "      <td>0</td>\n",
              "    </tr>\n",
              "    <tr>\n",
              "      <th>2539</th>\n",
              "      <td>dog.12282.jpg</td>\n",
              "      <td>1</td>\n",
              "    </tr>\n",
              "  </tbody>\n",
              "</table>\n",
              "</div>"
            ],
            "text/plain": [
              "          image name  category\n",
              "16955   cat.2758.jpg         0\n",
              "20424   cat.5880.jpg         0\n",
              "965    dog.10866.jpg         1\n",
              "9083    dog.6923.jpg         1\n",
              "4206    dog.2533.jpg         1\n",
              "21508   cat.6856.jpg         0\n",
              "4055    dog.2398.jpg         1\n",
              "10192   dog.7921.jpg         1\n",
              "20711   cat.6138.jpg         0\n",
              "2539   dog.12282.jpg         1"
            ]
          },
          "execution_count": 6,
          "metadata": {},
          "output_type": "execute_result"
        }
      ],
      "source": [
        "import pandas as pd\n",
        "import os\n",
        "# Define the paths to the image folders\n",
        "dogs = \"dogs_or_cats_final_model/dogs\"\n",
        "cats = \"dogs_or_cats_final_model/cats\"\n",
        "\n",
        "# Get the list of image names from both folders\n",
        "image_names = []\n",
        "for folder in [dogs, cats]:\n",
        "    image_names.extend(os.listdir(folder))\n",
        "\n",
        "# Create a list of categories based on the image names\n",
        "categories = []\n",
        "for image_name in image_names:\n",
        "    category = image_name.split('.')[0]\n",
        "    if category == 'dog':\n",
        "        categories.append(1)\n",
        "    else:\n",
        "        categories.append(0)\n",
        "\n",
        "# Create the DataFrame\n",
        "df = pd.DataFrame({\n",
        "    'image name': image_names,\n",
        "    'category': categories\n",
        "})\n",
        "\n",
        "# Print a random sample of 10 rows\n",
        "df.sample(10)"
      ]
    },
    {
      "cell_type": "markdown",
      "id": "53514cfc",
      "metadata": {
        "id": "53514cfc"
      },
      "source": [
        "# Generate and Save Classification Model\n",
        "The code below generates and saves the classification model as a .h5 file."
      ]
    },
    {
      "cell_type": "code",
      "execution_count": null,
      "id": "3bbc3240",
      "metadata": {
        "extensions": {
          "jupyter_dashboards": {
            "version": 1,
            "views": {
              "grid_default": {},
              "report_default": {}
            }
          }
        },
        "id": "3bbc3240",
        "outputId": "21e72d5f-ee3b-4df0-b4d8-5e743fd4fec8"
      },
      "outputs": [
        {
          "name": "stdout",
          "output_type": "stream",
          "text": [
            "Found 25000 images belonging to 2 classes.\n",
            "Epoch 1/10\n",
            "391/391 [==============================] - 138s 351ms/step - loss: 0.1780 - accuracy: 0.9687\n",
            "Epoch 2/10\n",
            "391/391 [==============================] - 120s 306ms/step - loss: 0.0273 - accuracy: 0.9907\n",
            "Epoch 3/10\n",
            "391/391 [==============================] - 120s 306ms/step - loss: 0.0090 - accuracy: 0.9975\n",
            "Epoch 4/10\n",
            "391/391 [==============================] - 121s 308ms/step - loss: 0.0022 - accuracy: 0.9996\n",
            "Epoch 5/10\n",
            "391/391 [==============================] - 121s 309ms/step - loss: 0.0010 - accuracy: 0.9998\n",
            "Epoch 6/10\n",
            "391/391 [==============================] - 121s 308ms/step - loss: 7.6906e-04 - accuracy: 0.9999\n",
            "Epoch 7/10\n",
            "391/391 [==============================] - 121s 309ms/step - loss: 4.1111e-04 - accuracy: 1.0000\n",
            "Epoch 8/10\n",
            "391/391 [==============================] - 121s 308ms/step - loss: 3.3233e-04 - accuracy: 1.0000\n",
            "Epoch 9/10\n",
            "391/391 [==============================] - 120s 307ms/step - loss: 2.8704e-04 - accuracy: 1.0000\n",
            "Epoch 10/10\n",
            "391/391 [==============================] - 120s 306ms/step - loss: 2.5962e-04 - accuracy: 1.0000\n"
          ]
        }
      ],
      "source": [
        "from keras.applications.vgg16 import VGG16\n",
        "from keras.models import Model\n",
        "from keras.layers import Dense\n",
        "from keras.layers import Flatten\n",
        "from keras.optimizers import SGD\n",
        "from keras.preprocessing.image import ImageDataGenerator\n",
        "\n",
        "\n",
        "#  Convolutional Neural Network Model\n",
        "def animal_classification_model():\n",
        "    # Load VGG16 CNN Model\n",
        "    animal_classification = VGG16(include_top=False, input_shape=(224, 224, 3))\n",
        "    # Mark layers untrainable\n",
        "    for layer in animal_classification.layers:\n",
        "        layer.trainable = False\n",
        "    # Create classifier layers\n",
        "    flatten1 = Flatten()(animal_classification.layers[-1].output)\n",
        "    class1 = Dense(128, activation='relu', kernel_initializer='he_uniform')(flatten1)\n",
        "    output = Dense(1, activation='sigmoid')(class1)\n",
        "    # Define model\n",
        "    animal_classification = Model(inputs=animal_classification.inputs, outputs=output)\n",
        "    # Compile animal_classification_model\n",
        "    optimizer = SGD(learning_rate=0.001, momentum=0.9)\n",
        "    animal_classification.compile(optimizer=optimizer, loss='binary_crossentropy', metrics=['accuracy'])\n",
        "    return animal_classification\n",
        "\n",
        "\n",
        "# Testing Framework to evaluate model\n",
        "def testing_framework():\n",
        "    # Model creation\n",
        "    animal_classification = animal_classification_model()\n",
        "    # Create generator\n",
        "    generator = ImageDataGenerator(featurewise_center=True)\n",
        "    # Centering values\n",
        "    generator.mean = [123.68, 116.779, 103.939]\n",
        "    # Create iterator\n",
        "    iterator_training = generator.flow_from_directory('dogs_or_cats_final_model/',\n",
        "                                                      class_mode='binary', batch_size=64, target_size=(224, 224))\n",
        "    # Fit\n",
        "    animal_classification.fit(iterator_training, steps_per_epoch=len(iterator_training), epochs=10, verbose=1)\n",
        "    # Save\n",
        "    animal_classification.save('final_animal_classification_model.h5')\n",
        "\n",
        "\n",
        "# Run testing framework\n",
        "testing_framework()\n"
      ]
    },
    {
      "cell_type": "markdown",
      "id": "f9c5304c",
      "metadata": {
        "id": "f9c5304c"
      },
      "source": [
        "# Analyze an Image and Predict the Classification\n",
        "The code below uses the saved model to predict the classification of a given image. In the function run_classification_model, you can change the image being analyzed through this line of code \"animal_image = load_prep_image(' ')\""
      ]
    },
    {
      "cell_type": "code",
      "execution_count": null,
      "id": "2e0446f7",
      "metadata": {
        "id": "2e0446f7"
      },
      "outputs": [],
      "source": [
        "from keras.utils import load_img\n",
        "from keras.utils import img_to_array\n",
        "from keras.models import load_model\n",
        "\n",
        "\n",
        "# Load and prep image\n",
        "def load_prep_image(filename):\n",
        "    # Load image\n",
        "    animal_image = load_img(filename, target_size=(224, 224))\n",
        "    # Array convert\n",
        "    animal_image = img_to_array(animal_image)\n",
        "    # Morph into single sample 224x224 with 3 channels\n",
        "    animal_image = animal_image.reshape(1, 224, 224, 3)\n",
        "    # Center pixel data of reshaped image\n",
        "    animal_image = animal_image.astype('float32')\n",
        "    animal_image = animal_image - [123.68, 116.779, 103.939]\n",
        "    return animal_image\n",
        "\n",
        "\n",
        "# load an image and predict the class\n",
        "def run_classification_model():\n",
        "    # Loads Image\n",
        "    animal_image = load_prep_image('/content/testing/cat.jpg')\n",
        "    # Loads final model\n",
        "    final_model = load_model('/content/final_animal_classification_model.h5')\n",
        "    # Predicts classification and then says whether the photo is of a cat or dog\n",
        "    result = final_model.predict(animal_image)\n",
        "    if result[0] == 1:\n",
        "        print(\"I think this is a photo of a dog\")\n",
        "    else:\n",
        "        print(\"I think this is a photo of a cat\")\n",
        "\n",
        "\n",
        "# Runs code\n",
        "run_classification_model()\n"
      ]
    },
    {
      "cell_type": "markdown",
      "source": [
        "Use code below to confirm you are in 'content' directory"
      ],
      "metadata": {
        "id": "AcMEhuwiNCF_"
      },
      "id": "AcMEhuwiNCF_"
    },
    {
      "cell_type": "code",
      "source": [
        "import os\n",
        "os.getcwd()"
      ],
      "metadata": {
        "colab": {
          "base_uri": "https://localhost:8080/",
          "height": 35
        },
        "id": "_gBOQ1xCbSpY",
        "outputId": "0619bc4f-e85e-40d6-de97-63329267d0b6"
      },
      "id": "_gBOQ1xCbSpY",
      "execution_count": null,
      "outputs": [
        {
          "output_type": "execute_result",
          "data": {
            "text/plain": [
              "'/content'"
            ],
            "application/vnd.google.colaboratory.intrinsic+json": {
              "type": "string"
            }
          },
          "metadata": {},
          "execution_count": 1
        }
      ]
    },
    {
      "cell_type": "markdown",
      "source": [
        "If you are not in content run the code below otherwise skip to the next cell\n"
      ],
      "metadata": {
        "id": "TsqmcifXGbXH"
      },
      "id": "TsqmcifXGbXH"
    },
    {
      "cell_type": "code",
      "source": [
        "%cd /content/\n"
      ],
      "metadata": {
        "colab": {
          "base_uri": "https://localhost:8080/"
        },
        "id": "DnWhkQNY1Pqm",
        "outputId": "33c207f8-e92e-4e0b-8fc8-185127d0e756"
      },
      "id": "DnWhkQNY1Pqm",
      "execution_count": null,
      "outputs": [
        {
          "output_type": "stream",
          "name": "stdout",
          "text": [
            "/content\n"
          ]
        }
      ]
    },
    {
      "cell_type": "markdown",
      "source": [
        "Run the code below to download the testing images and final prediction model from google drive"
      ],
      "metadata": {
        "id": "m_wYFe64tt_v"
      },
      "id": "m_wYFe64tt_v"
    },
    {
      "cell_type": "code",
      "source": [
        "!gdown --folder \"https://drive.google.com/drive/folders/1-8bcPzPcPMB6NRuL9fnwU5q9h97mh80v?usp=sharing\"\n",
        "!gdown 1--JAHIi6HMrKUG52D6KywzsFOeW0EUh3"
      ],
      "metadata": {
        "id": "vzhXxXLyjVcv",
        "colab": {
          "base_uri": "https://localhost:8080/"
        },
        "outputId": "aa705279-2c62-4bad-cb93-c97c87c53ef5"
      },
      "id": "vzhXxXLyjVcv",
      "execution_count": 1,
      "outputs": [
        {
          "output_type": "stream",
          "name": "stdout",
          "text": [
            "Retrieving folder list\n",
            "Processing file 1-JOIgak2ArT9jI93e9Oe5aUp-RZe-bzT cat.jpg\n",
            "Processing file 1-F_m5ZJiCSWi5NlAfKrqTepQ5Df-H9VC cat2.jpg\n",
            "Processing file 1-CFggyUna2DukRN_i1OXyWgLkuZ4khIx dog.jpg\n",
            "Processing file 1-A9qJV4S9U9YkVRnEfJ0EBws68DfuJUD dog2.jpg\n",
            "Retrieving folder list completed\n",
            "Building directory structure\n",
            "Building directory structure completed\n",
            "Downloading...\n",
            "From: https://drive.google.com/uc?id=1-JOIgak2ArT9jI93e9Oe5aUp-RZe-bzT\n",
            "To: /content/testing/cat.jpg\n",
            "100% 19.3k/19.3k [00:00<00:00, 58.2MB/s]\n",
            "Downloading...\n",
            "From: https://drive.google.com/uc?id=1-F_m5ZJiCSWi5NlAfKrqTepQ5Df-H9VC\n",
            "To: /content/testing/cat2.jpg\n",
            "100% 12.4k/12.4k [00:00<00:00, 48.9MB/s]\n",
            "Downloading...\n",
            "From: https://drive.google.com/uc?id=1-CFggyUna2DukRN_i1OXyWgLkuZ4khIx\n",
            "To: /content/testing/dog.jpg\n",
            "100% 32.1k/32.1k [00:00<00:00, 73.9MB/s]\n",
            "Downloading...\n",
            "From: https://drive.google.com/uc?id=1-A9qJV4S9U9YkVRnEfJ0EBws68DfuJUD\n",
            "To: /content/testing/dog2.jpg\n",
            "100% 30.9k/30.9k [00:00<00:00, 71.5MB/s]\n",
            "Download completed\n",
            "Downloading...\n",
            "From: https://drive.google.com/uc?id=1--JAHIi6HMrKUG52D6KywzsFOeW0EUh3\n",
            "To: /content/final_animal_classification_model.h5\n",
            "100% 84.6M/84.6M [00:02<00:00, 32.5MB/s]\n"
          ]
        }
      ]
    }
  ],
  "metadata": {
    "extensions": {
      "jupyter_dashboards": {
        "activeView": "grid_default",
        "version": 1,
        "views": {
          "grid_default": {
            "cellMargin": 10,
            "defaultCellHeight": 20,
            "maxColumns": 12,
            "name": "grid",
            "type": "grid"
          },
          "report_default": {
            "name": "report",
            "type": "report"
          }
        }
      }
    },
    "kernelspec": {
      "display_name": "Python 3 (ipykernel)",
      "language": "python",
      "name": "python3"
    },
    "language_info": {
      "codemirror_mode": {
        "name": "ipython",
        "version": 3
      },
      "file_extension": ".py",
      "mimetype": "text/x-python",
      "name": "python",
      "nbconvert_exporter": "python",
      "pygments_lexer": "ipython3",
      "version": "3.10.9"
    },
    "colab": {
      "provenance": []
    }
  },
  "nbformat": 4,
  "nbformat_minor": 5
}